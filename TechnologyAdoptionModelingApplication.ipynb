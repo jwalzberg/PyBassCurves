{
 "cells": [
  {
   "cell_type": "markdown",
   "id": "f126154a",
   "metadata": {},
   "source": [
    "# Evaluating the impacts of financial and non-financial barriers to adoption of technologies through the CARAT tool and bass diffusion modeling\n",
    "\n",
    "This notebook's purpose is to present a turnkey application to study technology adoption through Bass diffusion modeling. The Bass model parameters are determined according to Hanes et al. (2019) [1] methodology and user inputs.  The application:\n",
    "\n",
    "- Requires the answers (scores) from a Commercial Adoption Readiness Assessment Tool (CARAT) assessment.\n",
    "\n",
    "- Determines the adoption score and associated Bass model parameters.\n",
    "\n",
    "- Draws the adoption curves and exports raw output data.\n",
    "\n",
    "- Accounts for the uncertainty in weighting technology attributes.\n",
    "\n",
    "[1] Hanes, R., Carpenter, A., Riddle, M., Graziano, D. J., & Cresko, J. (2019). Quantifying adoption rates and energy savings over time for advanced energy-efficient manufacturing technologies. Journal of Cleaner Production, 232, 925-939. doi:https://doi.org/10.1016/j.jclepro.2019.04.366"
   ]
  },
  {
   "cell_type": "code",
   "execution_count": 1,
   "id": "1cd9478c",
   "metadata": {},
   "outputs": [],
   "source": [
    "import pandas as pd\n",
    "import numpy as np\n",
    "import seaborn as sns\n",
    "import matplotlib.pyplot as plt\n",
    "from math import exp\n",
    "import matplotlib.ticker as mtick\n",
    "from typing import Type\n",
    "import random\n",
    "from fuzzywuzzy import fuzz"
   ]
  },
  {
   "cell_type": "markdown",
   "id": "71cfddcd",
   "metadata": {},
   "source": [
    "## Determining the adoption score\n",
    "\n",
    "Several factors may explained the adoption of new technologies. The Bass diffusion model uses a simple mathematical function with two parameters: $p$ and $q$, that can act as proxies for a variety of underlying factors. Barriers such as regulations, price competitivity, and public acceptance are factor that can explain a fast or slow technology adoption [2]. \n",
    "<br>\n",
    "\n",
    "The questions in the [CARAT tool](https://www.energy.gov/sites/default/files/2023-03/Commercial%20Adoption%20Readiness%20Assessment%20Tool%20%28CARAT%29_030323.pdf) must be answered as accurately as possible. The questions assess what potential barriers may mitigate the adoption of a new technology. Techno-economic analysis, life cycle assessment, regulatory assessment results should be used to answer the questions. Record the answers (using the Low, Medium, High scale from the CARAT tool) in the CARAT_scores.csv template.\n",
    "<br>\n",
    "\n",
    "Based on the answers, the adoption score $s$ is calculated. From the adoption score, the Bass model parameters $p$ and $q$ are computed, following Hanes et al. (2019) methodology [1].\n",
    "<br>\n",
    "\n",
    "[2] Fleiter, T., Hirzel, S., & Worrell, E. (2012). The characteristics of energy-efficiency measures – a neglected dimension. Energy Policy, 51, 502-513. doi:https://doi.org/10.1016/j.enpol.2012.08.054"
   ]
  },
  {
   "cell_type": "code",
   "execution_count": 2,
   "id": "979a3bdd-ccea-4a0d-8e4d-2215188471db",
   "metadata": {},
   "outputs": [],
   "source": [
    "# The code below upload data from a csv files into a pandas data frame object\n",
    "\n",
    "def upload_data(file_name: str) -> Type[pd.DataFrame]:\n",
    "    \"\"\"Upload data from a csv file and convert them into a Pandas DataFrame.\n",
    "    \n",
    "    Args:\n",
    "        file_name (str): file name from which data needs to be uploaded from.\n",
    "    \n",
    "    Returns:\n",
    "        df (Pandas DataFrame): Pandas DataFrame containing p and q values from the csv file.\n",
    "    \"\"\"\n",
    "    df = pd.read_csv(file_name)\n",
    "    return df"
   ]
  },
  {
   "cell_type": "code",
   "execution_count": 3,
   "id": "7bac8726",
   "metadata": {},
   "outputs": [],
   "source": [
    "# Upload CARAT tool answers into a dataframe\n",
    "\n",
    "# df = upload_data('CARAT_scores_Cement_SCM.csv')\n",
    "df = upload_data('CARAT_scores_Cement_Elec.csv')"
   ]
  },
  {
   "cell_type": "markdown",
   "id": "6a1adaff-2ee1-45d2-b9bd-048bcbbc7006",
   "metadata": {},
   "source": [
    "### Converting the CARAT's answers into an adoption score\n",
    "\n",
    "The functions below converts answers to the question above into the adoption score $s$. First qualitative answers are converted into quantitatives ones."
   ]
  },
  {
   "cell_type": "code",
   "execution_count": 4,
   "id": "189be5d1-3e0f-4793-b6f5-9f749d6d1bd4",
   "metadata": {},
   "outputs": [],
   "source": [
    "def find_closest_match_kw(x: Type[pd.DataFrame], dic_kw_score: dict) -> Type[pd.Series]:\n",
    "    \"\"\"Convert qualitative scores (low, medium, high scale) into quantitative scores.\n",
    "    \n",
    "    Args:\n",
    "        x (pd.DataFrame): the data frame containing the qualitative scores in a pandas series.\n",
    "        dic_kw_score (dict): dictionary containing the correspondance between qualitative scores and quantitative values.\n",
    "    \n",
    "    Returns:\n",
    "        scores (pd.Series): converted qualitative scores (to quantitative ones).\n",
    "    \"\"\"\n",
    "    \n",
    "    score_series = x['Score']\n",
    "\n",
    "    out = None\n",
    "    \n",
    "    for k, v in dic_kw_score.items():\n",
    "        match_score = fuzz.token_set_ratio(score_series, k)\n",
    "        if match_score >= 70:\n",
    "            out = v\n",
    "    \n",
    "    if out is not None:\n",
    "        return out\n",
    "    else:\n",
    "        raise ValueError(f\"Issue with score '{score_series}'! Try using only 'Low', 'Medium', 'High', and 'NA' to score dimensions.\")"
   ]
  },
  {
   "cell_type": "code",
   "execution_count": 5,
   "id": "b7f68c49-af08-448f-a105-73cb9f325e80",
   "metadata": {},
   "outputs": [
    {
     "data": {
      "text/html": [
       "<div>\n",
       "<style scoped>\n",
       "    .dataframe tbody tr th:only-of-type {\n",
       "        vertical-align: middle;\n",
       "    }\n",
       "\n",
       "    .dataframe tbody tr th {\n",
       "        vertical-align: top;\n",
       "    }\n",
       "\n",
       "    .dataframe thead th {\n",
       "        text-align: right;\n",
       "    }\n",
       "</style>\n",
       "<table border=\"1\" class=\"dataframe\">\n",
       "  <thead>\n",
       "    <tr style=\"text-align: right;\">\n",
       "      <th></th>\n",
       "      <th>Dimension</th>\n",
       "      <th>Score</th>\n",
       "      <th>Quantitative score</th>\n",
       "    </tr>\n",
       "  </thead>\n",
       "  <tbody>\n",
       "    <tr>\n",
       "      <th>0</th>\n",
       "      <td>Delivered cost</td>\n",
       "      <td>Medium</td>\n",
       "      <td>0.5</td>\n",
       "    </tr>\n",
       "    <tr>\n",
       "      <th>1</th>\n",
       "      <td>Functional performance</td>\n",
       "      <td>Medium</td>\n",
       "      <td>0.5</td>\n",
       "    </tr>\n",
       "    <tr>\n",
       "      <th>2</th>\n",
       "      <td>Ease of use / complexity</td>\n",
       "      <td>Medium</td>\n",
       "      <td>0.5</td>\n",
       "    </tr>\n",
       "    <tr>\n",
       "      <th>3</th>\n",
       "      <td>Demand maturity / market opennes</td>\n",
       "      <td>High</td>\n",
       "      <td>0.0</td>\n",
       "    </tr>\n",
       "    <tr>\n",
       "      <th>4</th>\n",
       "      <td>Market size</td>\n",
       "      <td>Medium</td>\n",
       "      <td>0.5</td>\n",
       "    </tr>\n",
       "  </tbody>\n",
       "</table>\n",
       "</div>"
      ],
      "text/plain": [
       "                          Dimension   Score  Quantitative score\n",
       "0                    Delivered cost  Medium                 0.5\n",
       "1            Functional performance  Medium                 0.5\n",
       "2          Ease of use / complexity  Medium                 0.5\n",
       "3  Demand maturity / market opennes    High                 0.0\n",
       "4                       Market size  Medium                 0.5"
      ]
     },
     "execution_count": 5,
     "metadata": {},
     "output_type": "execute_result"
    }
   ],
   "source": [
    "# Convert qualitative CARAT scores into quantitative ones in order to calculate the adoption score\n",
    "\n",
    "dic_kw_score = {'Low': 1, 'Medium': 0.5, 'High': 0, 'NA': np.nan}\n",
    "\n",
    "df['Quantitative score'] = df.apply(lambda x: find_closest_match_kw(x, dic_kw_score), axis=1, result_type='expand')\n",
    "\n",
    "# Remove \"NA\" answers from data frame\n",
    "df.dropna(inplace=True)\n",
    "\n",
    "df.head()"
   ]
  },
  {
   "cell_type": "markdown",
   "id": "d17a5b12",
   "metadata": {},
   "source": [
    "Next, the weights $w_c$ for each barrier (or attribute) need to be determined."
   ]
  },
  {
   "cell_type": "code",
   "execution_count": 6,
   "id": "b4671797",
   "metadata": {},
   "outputs": [],
   "source": [
    "# The code below determine weights, either defaulting to equal or user-defined weights \n",
    "\n",
    "def determine_attribute_weights(x: Type[pd.DataFrame], provided_weights: dict = {}, df: Type[pd.DataFrame] = df) -> Type[pd.Series]:\n",
    "    \"\"\"Default to equal weighting or use a list of user-defined weights.\n",
    "    \n",
    "    Args:\n",
    "        x (pd.DataFrame): the data frame containing all the CARAT tool dimension names in a pandas series.\n",
    "        provided_weights (list): optional argument containing the user-defined weight. If not provided, default to empty dict.\n",
    "    \n",
    "    Returns:\n",
    "        weight (pd.Series): new pandas series containing weights.\n",
    "    \"\"\"\n",
    "    \n",
    "    name_dimension = x['Dimension']\n",
    "    \n",
    "    if provided_weights:\n",
    "        # Normalize weights; after this operation, the sum of weights will equal 1\n",
    "        tot_weight = sum(provided_weights.values())\n",
    "        \n",
    "        if tot_weight <= 0:\n",
    "            raise ValueError(\"Something is wrong with the weights, provide new ones.\")\n",
    "        else:\n",
    "            provided_weights = {x: y / tot_weight for x, y in provided_weights.items()}\n",
    "\n",
    "        return provided_weights[name_dimension]\n",
    "    \n",
    "    else:\n",
    "        return 1 / df.shape[0]"
   ]
  },
  {
   "cell_type": "code",
   "execution_count": 7,
   "id": "eb52795e-2d08-4e17-b8a3-a936b2d1bf2b",
   "metadata": {},
   "outputs": [],
   "source": [
    "df['Weight'] = df.apply(lambda x: determine_attribute_weights(x), axis=1, result_type='expand')"
   ]
  },
  {
   "cell_type": "code",
   "execution_count": 8,
   "id": "3d05b3b7-9442-434c-a4d1-e60b796bba7f",
   "metadata": {},
   "outputs": [
    {
     "data": {
      "text/html": [
       "<div>\n",
       "<style scoped>\n",
       "    .dataframe tbody tr th:only-of-type {\n",
       "        vertical-align: middle;\n",
       "    }\n",
       "\n",
       "    .dataframe tbody tr th {\n",
       "        vertical-align: top;\n",
       "    }\n",
       "\n",
       "    .dataframe thead th {\n",
       "        text-align: right;\n",
       "    }\n",
       "</style>\n",
       "<table border=\"1\" class=\"dataframe\">\n",
       "  <thead>\n",
       "    <tr style=\"text-align: right;\">\n",
       "      <th></th>\n",
       "      <th>Dimension</th>\n",
       "      <th>Score</th>\n",
       "      <th>Quantitative score</th>\n",
       "      <th>Weight</th>\n",
       "    </tr>\n",
       "  </thead>\n",
       "  <tbody>\n",
       "    <tr>\n",
       "      <th>0</th>\n",
       "      <td>Delivered cost</td>\n",
       "      <td>Medium</td>\n",
       "      <td>0.5</td>\n",
       "      <td>0.058824</td>\n",
       "    </tr>\n",
       "    <tr>\n",
       "      <th>1</th>\n",
       "      <td>Functional performance</td>\n",
       "      <td>Medium</td>\n",
       "      <td>0.5</td>\n",
       "      <td>0.058824</td>\n",
       "    </tr>\n",
       "    <tr>\n",
       "      <th>2</th>\n",
       "      <td>Ease of use / complexity</td>\n",
       "      <td>Medium</td>\n",
       "      <td>0.5</td>\n",
       "      <td>0.058824</td>\n",
       "    </tr>\n",
       "    <tr>\n",
       "      <th>3</th>\n",
       "      <td>Demand maturity / market opennes</td>\n",
       "      <td>High</td>\n",
       "      <td>0.0</td>\n",
       "      <td>0.058824</td>\n",
       "    </tr>\n",
       "    <tr>\n",
       "      <th>4</th>\n",
       "      <td>Market size</td>\n",
       "      <td>Medium</td>\n",
       "      <td>0.5</td>\n",
       "      <td>0.058824</td>\n",
       "    </tr>\n",
       "  </tbody>\n",
       "</table>\n",
       "</div>"
      ],
      "text/plain": [
       "                          Dimension   Score  Quantitative score    Weight\n",
       "0                    Delivered cost  Medium                 0.5  0.058824\n",
       "1            Functional performance  Medium                 0.5  0.058824\n",
       "2          Ease of use / complexity  Medium                 0.5  0.058824\n",
       "3  Demand maturity / market opennes    High                 0.0  0.058824\n",
       "4                       Market size  Medium                 0.5  0.058824"
      ]
     },
     "execution_count": 8,
     "metadata": {},
     "output_type": "execute_result"
    }
   ],
   "source": [
    "# Provides a snapshot of the data frame\n",
    "df.head()"
   ]
  },
  {
   "cell_type": "markdown",
   "id": "5e4305d4",
   "metadata": {},
   "source": [
    "Finally, the adoption score $s$ is computed: $s = \\sum_{c} w_c * Score_c$."
   ]
  },
  {
   "cell_type": "code",
   "execution_count": 9,
   "id": "37e56d02",
   "metadata": {},
   "outputs": [
    {
     "name": "stdout",
     "output_type": "stream",
     "text": [
      "Given the answers to the questions on adoption barriers and their estimated relative importance, the adoption score is 0.53.\n"
     ]
    }
   ],
   "source": [
    "# The code below compute the adoption score\n",
    "\n",
    "adoption_score = round(sum([x * y for x, y in zip(df['Weight'].to_list(), df['Quantitative score'].to_list())]), 2)\n",
    "print(f'Given the answers to the questions on adoption barriers and their estimated relative importance, \\\n",
    "the adoption score is {adoption_score}.')"
   ]
  },
  {
   "cell_type": "markdown",
   "id": "bd3e882e",
   "metadata": {},
   "source": [
    "## Calculating the Bass model parameters\n",
    "\n",
    "The Bass diffusion model parameters $p$ and $q$ are calculated from the adoption score $s$ according to Hanes et al. (2019) methodology [1] (method 2)."
   ]
  },
  {
   "cell_type": "markdown",
   "id": "7178f821",
   "metadata": {},
   "source": [
    "### Upload and prepare $p$ and $q$ empirical data\n",
    "\n",
    "The functions below prepare a data frame containing empirical values for $p$ and $q$. The type of technology can be specified to improve the Bass model robustness."
   ]
  },
  {
   "cell_type": "code",
   "execution_count": 10,
   "id": "a5da0574",
   "metadata": {},
   "outputs": [],
   "source": [
    "qp_df = upload_data('qp_data.csv')"
   ]
  },
  {
   "cell_type": "code",
   "execution_count": 11,
   "id": "ea619df5",
   "metadata": {},
   "outputs": [],
   "source": [
    "# The code below prompt the choice of technology type and prepare the data frame for the determination of what p and q\n",
    "# could be given the adoption barriers assessment\n",
    "\n",
    "def prep_qp_data(df: Type[pd.DataFrame], technology_choice: str = 'Unknown/NA?') -> Type[pd.DataFrame]:\n",
    "    \"\"\"Modify the input data frame to determine p and q later on.\n",
    "    \n",
    "    Args:\n",
    "        df (Pandas DataFrame): Pandas DataFrame containing p and q values from the csv file.\n",
    "    \n",
    "    Returns:\n",
    "        new_df (Pandas DataFrame): modified Pandas DataFrame containing p and q values from the csv file.\n",
    "    \"\"\"\n",
    "\n",
    "    new_df = df.copy()\n",
    "    \n",
    "    if technology_choice != 'Unknown/NA?':\n",
    "        tech_types = {}\n",
    "        \n",
    "        for tech_type in df['category'].unique():\n",
    "            match_score = fuzz.token_set_ratio(tech_type, technology_choice)\n",
    "            tech_types[tech_type] = match_score\n",
    "        \n",
    "        closest_match = max(tech_types, key=tech_types.get)\n",
    "        new_df = new_df[new_df['category'] == closest_match]\n",
    "    \n",
    "    new_df['q/p'] = new_df['q'] / new_df['p']\n",
    "    new_df = new_df.sort_values(by=['q'], ascending=True)\n",
    "    adoption_score_increment = 1 / new_df.shape[0]\n",
    "    adoption_score_bins = np.arange(0, 1, adoption_score_increment)\n",
    "    new_df['adoption_score_mapping'] = adoption_score_bins\n",
    "    \n",
    "    return new_df"
   ]
  },
  {
   "cell_type": "code",
   "execution_count": 12,
   "id": "3b4c055d-16fa-4f54-9d96-fd808a4c8077",
   "metadata": {},
   "outputs": [
    {
     "data": {
      "text/html": [
       "<div>\n",
       "<style scoped>\n",
       "    .dataframe tbody tr th:only-of-type {\n",
       "        vertical-align: middle;\n",
       "    }\n",
       "\n",
       "    .dataframe tbody tr th {\n",
       "        vertical-align: top;\n",
       "    }\n",
       "\n",
       "    .dataframe thead th {\n",
       "        text-align: right;\n",
       "    }\n",
       "</style>\n",
       "<table border=\"1\" class=\"dataframe\">\n",
       "  <thead>\n",
       "    <tr style=\"text-align: right;\">\n",
       "      <th></th>\n",
       "      <th>technology</th>\n",
       "      <th>category</th>\n",
       "      <th>p</th>\n",
       "      <th>q</th>\n",
       "      <th>m</th>\n",
       "      <th>source</th>\n",
       "      <th>technology ready year</th>\n",
       "      <th>market year</th>\n",
       "      <th>time to 95% adoption</th>\n",
       "      <th>q/p</th>\n",
       "      <th>adoption_score_mapping</th>\n",
       "    </tr>\n",
       "  </thead>\n",
       "  <tbody>\n",
       "    <tr>\n",
       "      <th>56</th>\n",
       "      <td>Fluorescent Lamp</td>\n",
       "      <td>housewares</td>\n",
       "      <td>0.00082</td>\n",
       "      <td>0.0546</td>\n",
       "      <td>NaN</td>\n",
       "      <td>Kohli, Lehmann and Pae, 1999</td>\n",
       "      <td>1934.0</td>\n",
       "      <td>1938</td>\n",
       "      <td>NaN</td>\n",
       "      <td>66.585366</td>\n",
       "      <td>0.000000</td>\n",
       "    </tr>\n",
       "    <tr>\n",
       "      <th>22</th>\n",
       "      <td>Steel: Open hearth</td>\n",
       "      <td>industrial</td>\n",
       "      <td>0.00020</td>\n",
       "      <td>0.0700</td>\n",
       "      <td>NaN</td>\n",
       "      <td>Pae Lehmann, 2003</td>\n",
       "      <td>NaN</td>\n",
       "      <td>1868</td>\n",
       "      <td>125.432694</td>\n",
       "      <td>350.000000</td>\n",
       "      <td>0.008547</td>\n",
       "    </tr>\n",
       "    <tr>\n",
       "      <th>116</th>\n",
       "      <td>Electric Knife</td>\n",
       "      <td>housewares</td>\n",
       "      <td>0.09670</td>\n",
       "      <td>0.0703</td>\n",
       "      <td>NaN</td>\n",
       "      <td>Kohli, Lehmann and Pae, 1999</td>\n",
       "      <td>1963.0</td>\n",
       "      <td>1963</td>\n",
       "      <td>NaN</td>\n",
       "      <td>0.726991</td>\n",
       "      <td>0.017094</td>\n",
       "    </tr>\n",
       "    <tr>\n",
       "      <th>108</th>\n",
       "      <td>Compact fluorescent</td>\n",
       "      <td>buildings</td>\n",
       "      <td>0.00750</td>\n",
       "      <td>0.0710</td>\n",
       "      <td>0.5</td>\n",
       "      <td>PNNL</td>\n",
       "      <td>NaN</td>\n",
       "      <td>1986</td>\n",
       "      <td>67.485993</td>\n",
       "      <td>9.466667</td>\n",
       "      <td>0.025641</td>\n",
       "    </tr>\n",
       "    <tr>\n",
       "      <th>115</th>\n",
       "      <td>condensing gas furnace</td>\n",
       "      <td>buildings</td>\n",
       "      <td>0.07000</td>\n",
       "      <td>0.0710</td>\n",
       "      <td>0.3</td>\n",
       "      <td>PNNL</td>\n",
       "      <td>NaN</td>\n",
       "      <td>1982</td>\n",
       "      <td>26.031895</td>\n",
       "      <td>1.014286</td>\n",
       "      <td>0.034188</td>\n",
       "    </tr>\n",
       "  </tbody>\n",
       "</table>\n",
       "</div>"
      ],
      "text/plain": [
       "                 technology    category        p       q    m  \\\n",
       "56         Fluorescent Lamp  housewares  0.00082  0.0546  NaN   \n",
       "22       Steel: Open hearth  industrial  0.00020  0.0700  NaN   \n",
       "116          Electric Knife  housewares  0.09670  0.0703  NaN   \n",
       "108    Compact fluorescent    buildings  0.00750  0.0710  0.5   \n",
       "115  condensing gas furnace   buildings  0.07000  0.0710  0.3   \n",
       "\n",
       "                           source  technology ready year  market year  \\\n",
       "56   Kohli, Lehmann and Pae, 1999                 1934.0         1938   \n",
       "22              Pae Lehmann, 2003                    NaN         1868   \n",
       "116  Kohli, Lehmann and Pae, 1999                 1963.0         1963   \n",
       "108                          PNNL                    NaN         1986   \n",
       "115                          PNNL                    NaN         1982   \n",
       "\n",
       "     time to 95% adoption         q/p  adoption_score_mapping  \n",
       "56                    NaN   66.585366                0.000000  \n",
       "22             125.432694  350.000000                0.008547  \n",
       "116                   NaN    0.726991                0.017094  \n",
       "108             67.485993    9.466667                0.025641  \n",
       "115             26.031895    1.014286                0.034188  "
      ]
     },
     "execution_count": 12,
     "metadata": {},
     "output_type": "execute_result"
    }
   ],
   "source": [
    "qp_df = prep_qp_data(qp_df)\n",
    "qp_df.head()"
   ]
  },
  {
   "cell_type": "markdown",
   "id": "68ca224b",
   "metadata": {},
   "source": [
    "### Determine $p$ and $q$ parameters based on empirical data\n",
    "\n",
    "The cell below first map an empirical $q$ value to the adoption score following the method 2 from Hanes et al. (2019) [1]. Then the $p$ value is calculated using $q$ and the median value of empirical $q/p$ values."
   ]
  },
  {
   "cell_type": "code",
   "execution_count": 13,
   "id": "bf764d92",
   "metadata": {},
   "outputs": [
    {
     "name": "stdout",
     "output_type": "stream",
     "text": [
      "Given the adoption score and empirical q and p values, p=0.00523875968992248 and q=0.3379.\n"
     ]
    }
   ],
   "source": [
    "# The code below compute the p value based on a mapping of the adoption score and empirical q values and the q/p median value\n",
    "\n",
    "q_row_index = qp_df['adoption_score_mapping'].sub(adoption_score).abs().idxmin()\n",
    "q = float(qp_df.loc[[q_row_index]]['q'].iloc[0])\n",
    "qp_median = qp_df['q/p'].median()\n",
    "p =  q / qp_median\n",
    "\n",
    "print(f'Given the adoption score and empirical q and p values, p={p} and q={q}.')"
   ]
  },
  {
   "cell_type": "markdown",
   "id": "d62f371a",
   "metadata": {},
   "source": [
    "## Drawing the correpsonding Bass adoption curve and export data\n",
    "\n",
    "Finally, technology adoption can be studied with the parameterized Bass diffusion model. First, the studied period needs to be defined."
   ]
  },
  {
   "cell_type": "code",
   "execution_count": 14,
   "id": "1458e111",
   "metadata": {},
   "outputs": [],
   "source": [
    "start_date = 2025\n",
    "end_date = 2050"
   ]
  },
  {
   "cell_type": "code",
   "execution_count": 15,
   "id": "6a50133f",
   "metadata": {},
   "outputs": [],
   "source": [
    "# The code below define a list of years covering the studied period\n",
    "\n",
    "years = []\n",
    "for i in range(end_date - start_date):\n",
    "    years.append(i + start_date)\n",
    "years.append(end_date)"
   ]
  },
  {
   "cell_type": "markdown",
   "id": "f2c92a4b",
   "metadata": {},
   "source": [
    "Then, the bass diffusion model simulate adoption through the studied period. The model can be summarized with the following equation:\n",
    "\n",
    "$$F(T) = \\frac{1 - e^{-(p+q)t}}{1 + \\frac{q}{p} e^{-(p+q)t}} $$\n",
    "\n",
    "With $F(T)$ the fraction of population (of organizations or consumers) that has adopted the new technology at time $t$, $p$ the coefficient of innovation and $q$ the coefficient of imitation."
   ]
  },
  {
   "cell_type": "code",
   "execution_count": 16,
   "id": "b575f106",
   "metadata": {},
   "outputs": [
    {
     "data": {
      "text/html": [
       "<div>\n",
       "<style scoped>\n",
       "    .dataframe tbody tr th:only-of-type {\n",
       "        vertical-align: middle;\n",
       "    }\n",
       "\n",
       "    .dataframe tbody tr th {\n",
       "        vertical-align: top;\n",
       "    }\n",
       "\n",
       "    .dataframe thead th {\n",
       "        text-align: right;\n",
       "    }\n",
       "</style>\n",
       "<table border=\"1\" class=\"dataframe\">\n",
       "  <thead>\n",
       "    <tr style=\"text-align: right;\">\n",
       "      <th></th>\n",
       "      <th>Year</th>\n",
       "      <th>Adoption rate</th>\n",
       "    </tr>\n",
       "  </thead>\n",
       "  <tbody>\n",
       "    <tr>\n",
       "      <th>0</th>\n",
       "      <td>2025</td>\n",
       "      <td>0.000000</td>\n",
       "    </tr>\n",
       "    <tr>\n",
       "      <th>1</th>\n",
       "      <td>2026</td>\n",
       "      <td>0.621102</td>\n",
       "    </tr>\n",
       "    <tr>\n",
       "      <th>2</th>\n",
       "      <td>2027</td>\n",
       "      <td>1.483475</td>\n",
       "    </tr>\n",
       "    <tr>\n",
       "      <th>3</th>\n",
       "      <td>2028</td>\n",
       "      <td>2.673769</td>\n",
       "    </tr>\n",
       "    <tr>\n",
       "      <th>4</th>\n",
       "      <td>2029</td>\n",
       "      <td>4.303310</td>\n",
       "    </tr>\n",
       "  </tbody>\n",
       "</table>\n",
       "</div>"
      ],
      "text/plain": [
       "   Year  Adoption rate\n",
       "0  2025       0.000000\n",
       "1  2026       0.621102\n",
       "2  2027       1.483475\n",
       "3  2028       2.673769\n",
       "4  2029       4.303310"
      ]
     },
     "execution_count": 16,
     "metadata": {},
     "output_type": "execute_result"
    }
   ],
   "source": [
    "# Function that applies the Bass diffusion model and export raw data to a csv file\n",
    "\n",
    "def bass_diffusion_model(years: list, p: float, q: float) -> Type[pd.DataFrame]:\n",
    "    \"\"\"Create a data frame containing the adoption rates throughout the studied period according to the Bass diffusion model.\n",
    "    \n",
    "    Args:\n",
    "        years (list): list containing each year within the studied period (x axis values of the adoption curve).\n",
    "        p: Bass diffusion model parameter (coefficient of innovation)\n",
    "        q: Bass diffusion model parameter (coefficient of imitation)\n",
    "    \n",
    "    Returns:\n",
    "        output_df (Pandas DataFrame): data frame containing the adoption rates (y axis values of the adoption curve) and \n",
    "            correcsonding years (x axis values of the adoption curve).\n",
    "    \"\"\"\n",
    "    bass_adoption = []\n",
    "    for t in range(len(years)):\n",
    "        bass_adopt_t = (1 - exp(-1 * (p + q) * t)) / (1 + (q / p) * exp(-1 * (p + q) * t)) * 100\n",
    "        bass_adoption.append(bass_adopt_t)\n",
    "\n",
    "    output_df = pd.DataFrame({'Year': years, 'Adoption rate': bass_adoption})\n",
    "    \n",
    "    return output_df\n",
    "\n",
    "output_df = bass_diffusion_model(years, p, q)\n",
    "output_df.to_csv('NewTechnology_BassModelAdoptionRate_RawData.csv')\n",
    "output_df.head()"
   ]
  },
  {
   "cell_type": "markdown",
   "id": "aef22106",
   "metadata": {},
   "source": [
    "Finally, the Bass diffusion curve can be drawn:"
   ]
  },
  {
   "cell_type": "code",
   "execution_count": 17,
   "id": "48a89da4",
   "metadata": {},
   "outputs": [
    {
     "data": {
      "image/png": "[encoded data removed]",
      "text/plain": [
       "<Figure size 800x500 with 1 Axes>"
      ]
     },
     "metadata": {},
     "output_type": "display_data"
    }
   ],
   "source": [
    "# Draw the Bass adoption curve and export figure\n",
    "\n",
    "fig = plt.figure(figsize=(8, 5))\n",
    "plt.rcParams.update({'font.size':12})\n",
    "\n",
    "g = sns.lineplot(data=output_df, x=\"Year\", y='Adoption rate')\n",
    "g.yaxis.set_major_formatter(mtick.PercentFormatter())\n",
    "\n",
    "plt.savefig('NewTechnology_BassModelAdoptionRate.png', bbox_inches='tight', pad_inches=0.1)"
   ]
  },
  {
   "cell_type": "markdown",
   "id": "e239bb3e",
   "metadata": {},
   "source": [
    "## Accounting for the uncertainty in weighting technology attributes\n",
    "\n",
    "This section of the notebook will re-draw the adoption curve accoutning for the uncertainty in weighting the different barriers (or attributes). The adoption curve can be re-drawn under low (+/- 20%), intermediate (+/- 60%), or high (+/- 100%) uncertainty.\n",
    "\n",
    "A Monte Carlo analysis is used to re-draw the adoption curve under uncertainty. The number of Monte Carlo iterations is a user-defined parameter defaulting to 100."
   ]
  },
  {
   "cell_type": "code",
   "execution_count": 18,
   "id": "e42b7d6f",
   "metadata": {},
   "outputs": [],
   "source": [
    "# The function below run the Monte Carlo Analysis\n",
    "\n",
    "# Initializes random seed\n",
    "np.random.seed(0)\n",
    "\n",
    "def monte_carlo_analysis(df: Type[pd.DataFrame], qp_df: Type[pd.DataFrame], mc_iterations: int = 100, uncertainty_level: str = 'high') -> Type[pd.DataFrame]:\n",
    "    \"\"\"Monte Carlo analysis with a user-defined number of iterations.\n",
    "    \n",
    "    Args:\n",
    "        df (Pandas DataFrame): Pandas DataFrame containing all the original weights and quantitative scores.\n",
    "        mc_iterations: number of Monte Carlo iterations.\n",
    "    \n",
    "    Returns:\n",
    "        all_iterations_df (Pandas DataFrame): modified Pandas DataFrames containing values for the Monte Carlo analysis.\n",
    "    \"\"\"\n",
    "\n",
    "    all_iterations_df = pd.DataFrame()\n",
    "\n",
    "    # The function below add uncertainty to current weights\n",
    "    def add_uncertainty_to_weights(x: Type[pd.DataFrame], uncertainty_level: str = 'high') -> Type[pd.Series]:\n",
    "        \"\"\"Add uncertainty to input weights. Default to high uncertainty.\n",
    "        \n",
    "        Args:\n",
    "            x (pd.DataFrame): the data frame containing all the original weights in a pandas series.\n",
    "            uncertainty_level: string defining the level of uncertainty.\n",
    "        \n",
    "        Returns:\n",
    "            new weight (pd.Series): new pandas series containing weights with added uncertainty.\n",
    "        \"\"\"\n",
    "        qual_to_quant_uncertainty_map = {'low': 0.2, 'intermediate': 0.6, 'high': 1}\n",
    "        uncertainty_level_score = 1 \n",
    "    \n",
    "        for k, v in qual_to_quant_uncertainty_map.items():\n",
    "            match_score = fuzz.token_set_ratio(uncertainty_level, k)\n",
    "            if match_score >= 80:\n",
    "                uncertainty_level_score = v\n",
    "        \n",
    "        original_weight = x['Weight']\n",
    "        uncertainty = np.random.uniform(low=(-1 * uncertainty_level_score), high=uncertainty_level_score)\n",
    "    \n",
    "        # Return new weight. Note that the sum of the new weights may not be equal to 1 anymore\n",
    "        return original_weight * (1 + uncertainty)\n",
    "    \n",
    "    for i in range(mc_iterations):\n",
    "        \n",
    "        print(f'Performing the {i + 1} out of {mc_iterations} Monte Carlo analysis iterations.', end=\"\\r\", flush=True)      \n",
    "\n",
    "        df_inter = df.copy()\n",
    "        df_inter['Weight with added uncertainty'] = df_inter.apply(lambda x: add_uncertainty_to_weights(\n",
    "            x, uncertainty_level), axis=1, result_type='expand')\n",
    "\n",
    "        adoption_score = round(sum([x * y for x, y in zip(\n",
    "            df_inter['Weight with added uncertainty'].to_list(), df['Quantitative score'].to_list())]), 2)\n",
    "        \n",
    "        q_row_index = qp_df['adoption_score_mapping'].sub(adoption_score).abs().idxmin()\n",
    "        q = float(qp_df.loc[[q_row_index]]['q'].iloc[0])\n",
    "        qp_median = qp_df['q/p'].median()\n",
    "        p =  q / qp_median\n",
    "        \n",
    "        mc_iteration_df = bass_diffusion_model(years, p, q)\n",
    "        mc_iteration_df['Monte Carlo iteration'] = i\n",
    "        all_iterations_df = pd.concat([all_iterations_df, mc_iteration_df])\n",
    "    \n",
    "    return all_iterations_df"
   ]
  },
  {
   "cell_type": "code",
   "execution_count": 19,
   "id": "b9d0ef0e-af02-46fd-a238-357f7bded21e",
   "metadata": {},
   "outputs": [
    {
     "name": "stdout",
     "output_type": "stream",
     "text": [
      "Performing the 100 out of 100 Monte Carlo analysis iterations.\r"
     ]
    }
   ],
   "source": [
    "all_iterations_df = monte_carlo_analysis(df, qp_df, 100)\n",
    "all_iterations_df.to_csv('NewTechnology_UncertainBassModelAdoptionRate_RawData.csv')"
   ]
  },
  {
   "cell_type": "markdown",
   "id": "e4380825",
   "metadata": {},
   "source": [
    "Finally, the Bass diffusion curve under uncertainty can be drawn. Note that the figure shows the 95% most common adoption curves from the Monte Carlo sample (the 5% most extreme in either direction (slower or faster adoption) are excluded)."
   ]
  },
  {
   "cell_type": "code",
   "execution_count": 20,
   "id": "2f04c872",
   "metadata": {},
   "outputs": [
    {
     "data": {
      "image/png": "[encoded data removed]",
      "text/plain": [
       "<Figure size 800x500 with 1 Axes>"
      ]
     },
     "metadata": {},
     "output_type": "display_data"
    }
   ],
   "source": [
    "# Draw the Bass adoption curve and export figure\n",
    "\n",
    "fig = plt.figure(figsize=(8, 5))\n",
    "plt.rcParams.update({'font.size':12})\n",
    "\n",
    "# Errorbar='pi' select the 95% most common curves.\n",
    "g = sns.lineplot(data=all_iterations_df, x=\"Year\", y='Adoption rate', errorbar='pi')\n",
    "g.yaxis.set_major_formatter(mtick.PercentFormatter())\n",
    "\n",
    "plt.savefig('NewTechnology_UncertainBassModelAdoptionRate.png', bbox_inches='tight', pad_inches=0.1)"
   ]
  }
 ],
 "metadata": {
  "kernelspec": {
   "display_name": "jupyter",
   "language": "python",
   "name": "jupyter"
  },
  "language_info": {
   "codemirror_mode": {
    "name": "ipython",
    "version": 3
   },
   "file_extension": ".py",
   "mimetype": "text/x-python",
   "name": "python",
   "nbconvert_exporter": "python",
   "pygments_lexer": "ipython3",
   "version": "3.9.21"
  }
 },
 "nbformat": 4,
 "nbformat_minor": 5
}
